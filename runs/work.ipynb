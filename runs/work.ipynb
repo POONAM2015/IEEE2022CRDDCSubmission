{
 "cells": [
  {
   "cell_type": "markdown",
   "metadata": {},
   "source": [
    "# Change to working directory"
   ]
  },
  {
   "cell_type": "code",
   "execution_count": null,
   "metadata": {},
   "outputs": [],
   "source": [
    "cd /usr/src/app/yolov7"
   ]
  },
  {
   "cell_type": "code",
   "execution_count": null,
   "metadata": {},
   "outputs": [],
   "source": [
    "!#pwd should be /usr/src/app/yolov7\n",
    "!pwd"
   ]
  },
  {
   "cell_type": "markdown",
   "metadata": {},
   "source": [
    "# Import libraries"
   ]
  },
  {
   "cell_type": "code",
   "execution_count": null,
   "metadata": {},
   "outputs": [],
   "source": [
    "import os, multiprocessing"
   ]
  },
  {
   "cell_type": "markdown",
   "metadata": {},
   "source": [
    "# Training "
   ]
  },
  {
   "cell_type": "markdown",
   "metadata": {},
   "source": [
    "There are 6 different models:\n",
    "1. combined_positive_aug_640\n",
    "2. combined_positive_aug_448\n",
    "3. india_positive_aug_704\n",
    "4. jp_usa_positive_aug_640\n",
    "5. japan_positive_aug_608\n",
    "6. norway_1280\n",
    "\n",
    "- aug = contains data augmentation\n",
    "- positive = if mentioned implies only those images were considered which had one or more road damage instances. Images with no instances were not considered.\n",
    "- 448, 608, 1280 => image size"
   ]
  },
  {
   "cell_type": "markdown",
   "metadata": {},
   "source": [
    "Download the weights of these models from the following link and place them inside `runs/train`.\n",
    "LINK: https://drive.google.com/drive/folders/12yA1zrtD7tdo8-0ww0A_UxOzFuIj2TRF?usp=sharing\n"
   ]
  },
  {
   "cell_type": "markdown",
   "metadata": {},
   "source": [
    "## Training"
   ]
  },
  {
   "cell_type": "code",
   "execution_count": null,
   "metadata": {},
   "outputs": [],
   "source": [
    "weight_list = ['yolov7x.pt']*2 + ['yolov7-w6_training.pt'] + ['yolov7x.pt']*2 + ['yolov7-w6_training.pt']\n",
    "workers = multiprocessing.cpu_count()\n",
    "epochs = 55\n",
    "imgs_list = [640, 448, 704, 640, 608, 1280]\n",
    "bs_list = [16, 32, 20, 16, 16, 8]\n",
    "\n",
    "cfg_folders = ['combined_positive_aug', 'combined_positive_aug', 'india_positive_aug', 'jp_us_positive_aug', 'japan_positive_aug', 'norway']\n",
    "\n",
    "for wt, cfg_folder, imgs, bs in zip(weight_list, cfg_folders, imgs_list, bs_list):\n",
    "    train_py = 'train_aux.py' if wt == 'yolov7-w6_training.pt' else 'train.py'\n",
    "    print('---------------------')\n",
    "    data = f'runs/cfg/{cfg_folder}/{cfg_folder}.yaml'\n",
    "    name = f'train_{os.path.basename(data)[:-5]}_{imgs}'\n",
    "    s_train = f'python {train_py} --weights {wt} --data {data} --epochs {epochs} --img-size {imgs} {imgs} --batch-size {bs} --cache-images --image-weights --device 0 --workers {workers} --name {name}'\n",
    "    print(s_train)\n",
    "    os.system(s_train)"
   ]
  },
  {
   "cell_type": "markdown",
   "metadata": {},
   "source": [
    "# Inference"
   ]
  },
  {
   "cell_type": "markdown",
   "metadata": {},
   "source": [
    "- The following code runs 5 inference models which achieve the best F1 score reported for each leaderboard.\n",
    "- The results of inference is saved as .txt file in the format asked by orgainser in the folder runs/submissions.\n",
    "- 'combined_without_drone' contains all the test images for easy reference for combined leaderboard."
   ]
  },
  {
   "cell_type": "code",
   "execution_count": null,
   "metadata": {},
   "outputs": [],
   "source": [
    "country_list = ['combined_without_drone', 'India', 'Japan', 'United_States', 'Norway']\n",
    "\n",
    "# train_combined_positive_aug_640\n",
    "ca_best = 'runs/train/train_combined_positive_aug_640/weights/best.pt'\n",
    "ca_e24 = 'runs/train/train_combined_positive_aug_640/weights/epoch_024.pt'\n",
    "\n",
    "# train_combined_positive_aug_448\n",
    "ca_448_best = 'runs/train/train_combined_positive_aug_448/weights/best.pt'\n",
    "\n",
    "# train_india_positive_aug_704\n",
    "in_704_best = 'runs/train/train_india_positive_aug_704/weights/best.pt'\n",
    "in_704_e24 = 'runs/train/train_india_positive_aug_704/weights/epoch_024.pt'\n",
    "\n",
    "# train_japan_positive_aug_608\n",
    "jpaa_best = 'runs/train/train_japan_positive_aug_608/weights/best.pt'\n",
    "jpaa_e24 = 'runs/train/train_japan_positive_aug_608/weights/epoch_024.pt'\n",
    "\n",
    "# train_jp_us_positive_aug_640\n",
    "jual_best = 'runs/train/train_jp_us_positive_aug_640/weights/best.pt'\n",
    "jual_e24 = 'runs/train/train_jp_us_positive_aug_640/weights/epoch_024.pt'\n",
    "\n",
    "weight_list = [f'{ca_best} {ca_e24} {ca_448_best}', f'{in_704_best} {in_704_e24} {ca_best}', f'{jpaa_best} {jpaa_e24} {ca_best} {ca_e24}', f'{jual_best} {jual_e24} {ca_best} {ca_e24}',\n",
    "f'{ca_best} {ca_e24} {ca_448_best}' ]\n",
    "name_list = ['Combined', 'India', 'Japan', 'USA', 'Norway']\n",
    "\n",
    "e = [True]*5\n",
    "imgs = [640]*5\n",
    "iou = 1\n",
    "conf_list = [0.45, 0.4, 0.45, 0.4, 0.33]\n",
    "nosave_flag = True\n",
    "for wt, name, ensemble, imgsize, conf, country in zip(weight_list, name_list, e, imgs, conf_list, country_list):\n",
    "    print('-----------------------')\n",
    "    clower = country.lower()\n",
    "    if country == 'combined_without_drone':\n",
    "        source = f'../../mydataset/{country}'\n",
    "    else:\n",
    "        source = f'../../mydataset/{country}/test/images'\n",
    "    notrace = '--no-trace' if ensemble else ''\n",
    "    nosave = '--nosave' if nosave_flag else ''\n",
    "\n",
    "    # tta_ag => test time augmentation, agnostic-nms\n",
    "    name_detect = f'{name}_tta_ag_c{str(int(conf*100))}_i{str(int(iou*100))}_{imgsize}'\n",
    "    print(name_detect)\n",
    "\n",
    "    s = f'python detect.py --weights {wt} --source {source} --conf-thres {conf} --iou-thres {iou}  --img-size {imgsize} --augment --agnostic-nms --device 0 {nosave} --save-txt --name {name_detect} {notrace}'\n",
    "    print(s)\n",
    "    os.system(s)\n",
    "\n",
    "    labelsrc = f'runs/detect/{name_detect}/labels'\n",
    "    s_convert = f'python runs/convert_yolo_to_subformat.py --image_source {source} --label_source {labelsrc}'\n",
    "    print(s_convert)\n",
    "    os.system(s_convert)"
   ]
  }
 ],
 "metadata": {
  "kernelspec": {
   "display_name": "Python 3.8.12 ('TensorFlowGPUPy38')",
   "language": "python",
   "name": "python3"
  },
  "language_info": {
   "codemirror_mode": {
    "name": "ipython",
    "version": 3
   },
   "file_extension": ".py",
   "mimetype": "text/x-python",
   "name": "python",
   "nbconvert_exporter": "python",
   "pygments_lexer": "ipython3",
   "version": "3.8.12"
  },
  "orig_nbformat": 4,
  "vscode": {
   "interpreter": {
    "hash": "f329c32e8e102dd18c9390906d9fa0bdb0f2f3c27b05e2c4925565cd429887f9"
   }
  }
 },
 "nbformat": 4,
 "nbformat_minor": 2
}
